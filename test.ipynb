{
 "cells": [
  {
   "cell_type": "code",
   "id": "initial_id",
   "metadata": {
    "collapsed": true,
    "ExecuteTime": {
     "end_time": "2025-05-14T22:10:15.684604Z",
     "start_time": "2025-05-14T22:10:15.681597Z"
    }
   },
   "source": [
    "import matplotlib.pyplot as plt\n",
    "import numpy as np\n",
    "import pandas as pd\n",
    "import os\n",
    "import numpy as np"
   ],
   "outputs": [],
   "execution_count": 40
  },
  {
   "metadata": {},
   "cell_type": "code",
   "outputs": [],
   "execution_count": null,
   "source": [
    "files = os.listdir('outputs')\n",
    "\n",
    "data = {}\n",
    "\n",
    "for file in files:\n",
    "    mutation_rate = file.split(\"_\")[1]\n",
    "\n",
    "    if mutation_rate not in data:\n",
    "        data[mutation_rate] = []\n",
    "\n",
    "    data[mutation_rate].append(pd.read_csv('outputs/'+file))\n",
    "\n",
    "mutation_rates = list(data.keys())\n",
    "\n",
    "mutation_rates.sort(key=lambda x: float(\"0.\"+x[1:]))\n",
    "mutation_rates"
   ],
   "id": "575d90bd8b874c10"
  },
  {
   "metadata": {},
   "cell_type": "code",
   "outputs": [],
   "execution_count": null,
   "source": [
    "fig = plt.figure(figsize=(20,20))\n",
    "spec = fig.add_gridspec(ncols=3, nrows=3)\n",
    "\n",
    "prev_ax = None\n",
    "\n",
    "for i, mutation_rate in enumerate(mutation_rates):\n",
    "    ax = fig.add_subplot(3,3, i + 1, sharey=prev_ax)\n",
    "    prev_ax = ax\n",
    "\n",
    "    ax.set_title(\"Mutation rate: 0.\"+mutation_rate[1:])\n",
    "    ax.set_ylabel(\"Fitness\")\n",
    "    ax.set_xlabel(\"Iteration\")\n",
    "\n",
    "    for p in data[mutation_rate]:\n",
    "        ax.plot(p['max'])\n",
    "\n",
    "\n",
    "ax = fig.add_subplot(spec[2, 1:3])\n",
    "\n",
    "for i, mutation_rate in enumerate(mutation_rates):\n",
    "    avg = []\n",
    "\n",
    "    for p in data[mutation_rate]:\n",
    "        avg.append(p['max'])\n",
    "\n",
    "\n",
    "    avg = np.array(avg)\n",
    "\n",
    "    avg_std = np.std(avg, axis=0) / 3\n",
    "    avg_mean = np.mean(avg, axis=0)\n",
    "\n",
    "    x = list(range(len(avg_std)))\n",
    "\n",
    "    ax.plot(x, avg_mean, label=mutation_rate)\n",
    "    ax.fill_between(x, avg_mean-avg_std, avg_mean+avg_std, alpha=0.2)\n",
    "    ax.set_ylabel(\"Fitness\")\n",
    "    ax.set_xlabel(\"Iteration\")\n",
    "\n",
    "ax.set_title(\"Max fitness per iteration\")\n",
    "ax.legend()"
   ],
   "id": "3caa485aa9de5ce7"
  }
 ],
 "metadata": {
  "kernelspec": {
   "display_name": "Python 3",
   "language": "python",
   "name": "python3"
  },
  "language_info": {
   "codemirror_mode": {
    "name": "ipython",
    "version": 2
   },
   "file_extension": ".py",
   "mimetype": "text/x-python",
   "name": "python",
   "nbconvert_exporter": "python",
   "pygments_lexer": "ipython2",
   "version": "2.7.6"
  }
 },
 "nbformat": 4,
 "nbformat_minor": 5
}
